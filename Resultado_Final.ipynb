{
  "nbformat": 4,
  "nbformat_minor": 0,
  "metadata": {
    "colab": {
      "name": "Resultado Final",
      "provenance": [],
      "collapsed_sections": [],
      "mount_file_id": "100xdnr3BBwCG-TQNYL3ii0GX_ogyeE2X",
      "authorship_tag": "ABX9TyOh8ZrsEIW9/jgYDKdtRMAy",
      "include_colab_link": true
    },
    "kernelspec": {
      "name": "python3",
      "display_name": "Python 3"
    }
  },
  "cells": [
    {
      "cell_type": "markdown",
      "metadata": {
        "id": "view-in-github",
        "colab_type": "text"
      },
      "source": [
        "<a href=\"https://colab.research.google.com/github/LucasDatilioCarderelli/-QuarentenaDados/blob/master/Resultado_Final.ipynb\" target=\"_parent\"><img src=\"https://colab.research.google.com/assets/colab-badge.svg\" alt=\"Open In Colab\"/></a>"
      ]
    },
    {
      "cell_type": "code",
      "metadata": {
        "id": "GNC0YQ7x4Pa4",
        "colab_type": "code",
        "colab": {}
      },
      "source": [
        "import pandas as pd\n",
        "import numpy as np\n",
        "from sklearn.metrics import mean_squared_error"
      ],
      "execution_count": 0,
      "outputs": []
    },
    {
      "cell_type": "code",
      "metadata": {
        "id": "Ol5gYPRv4Tu0",
        "colab_type": "code",
        "colab": {}
      },
      "source": [
        "dados_previsao = pd.read_csv(\"https://raw.githubusercontent.com/LucasDatilioCarderelli/-QuarentenaDados/master/PREDICAO_DESAFIOQT.csv\")\n",
        "dados_validacao = pd.read_csv(\"https://raw.githubusercontent.com/LucasDatilioCarderelli/-QuarentenaDados/master/DADOS_VALIDACAO_SEED_845309_LC.csv\", sep=',')"
      ],
      "execution_count": 0,
      "outputs": []
    },
    {
      "cell_type": "code",
      "metadata": {
        "id": "vuSaqMnh40Vn",
        "colab_type": "code",
        "colab": {
          "base_uri": "https://localhost:8080/",
          "height": 136
        },
        "outputId": "4fd53487-d389-4558-e622-86d03e2457e3"
      },
      "source": [
        "dados_previsao = dados_previsao.drop(\"ID\", axis=1)\n",
        "dados_previsao = dados_previsao.to_numpy().reshape(-1,1)\n",
        "dados_previsao"
      ],
      "execution_count": 3,
      "outputs": [
        {
          "output_type": "execute_result",
          "data": {
            "text/plain": [
              "array([[501.94877182],\n",
              "       [584.15002273],\n",
              "       [519.20458881],\n",
              "       ...,\n",
              "       [530.76498573],\n",
              "       [576.65384219],\n",
              "       [502.3147838 ]])"
            ]
          },
          "metadata": {
            "tags": []
          },
          "execution_count": 3
        }
      ]
    },
    {
      "cell_type": "code",
      "metadata": {
        "id": "k9wB1Zhm8KOO",
        "colab_type": "code",
        "colab": {
          "base_uri": "https://localhost:8080/",
          "height": 136
        },
        "outputId": "f84aeb1b-7373-42ec-893a-17cfdfd9fafb"
      },
      "source": [
        "dados_validacao = dados_validacao.drop(\"ID\", axis=1)\n",
        "dados_validacao = dados_validacao.to_numpy().reshape(-1,1)\n",
        "dados_validacao"
      ],
      "execution_count": 4,
      "outputs": [
        {
          "output_type": "execute_result",
          "data": {
            "text/plain": [
              "array([[503. ],\n",
              "       [625.1],\n",
              "       [534.7],\n",
              "       ...,\n",
              "       [584.5],\n",
              "       [554.9],\n",
              "       [482.7]])"
            ]
          },
          "metadata": {
            "tags": []
          },
          "execution_count": 4
        }
      ]
    },
    {
      "cell_type": "code",
      "metadata": {
        "id": "GS_uXUfZ9COL",
        "colab_type": "code",
        "colab": {
          "base_uri": "https://localhost:8080/",
          "height": 34
        },
        "outputId": "87f35eec-e4c7-47e0-cef2-61473abf07cc"
      },
      "source": [
        "avaliação = mean_squared_error(dados_previsao, dados_validacao)\n",
        "avaliação"
      ],
      "execution_count": 5,
      "outputs": [
        {
          "output_type": "execute_result",
          "data": {
            "text/plain": [
              "2037.5712039860994"
            ]
          },
          "metadata": {
            "tags": []
          },
          "execution_count": 5
        }
      ]
    },
    {
      "cell_type": "markdown",
      "metadata": {
        "id": "Joo5bT1HqtH1",
        "colab_type": "text"
      },
      "source": [
        "- Humberto Pereira, atingiu um MSE de 2008.958117\n",
        "- 10º atingiu um MSE de 2029.730915169531"
      ]
    },
    {
      "cell_type": "code",
      "metadata": {
        "id": "mll6LgJm9clQ",
        "colab_type": "code",
        "colab": {
          "base_uri": "https://localhost:8080/",
          "height": 136
        },
        "outputId": "23fc7c07-df4c-4dfa-edbe-79afdb1c628e"
      },
      "source": [
        "dados_valid = pd.read_csv(\"/content/DADOS_VALIDACAO_SEED_845309.csv\")\n",
        "dados_valid = dados_valid[\"NU_NOTA_LC\"].to_numpy().reshape(-1,1)\n",
        "dados_valid"
      ],
      "execution_count": 6,
      "outputs": [
        {
          "output_type": "execute_result",
          "data": {
            "text/plain": [
              "array([[503. ],\n",
              "       [625.1],\n",
              "       [534.7],\n",
              "       ...,\n",
              "       [584.5],\n",
              "       [554.9],\n",
              "       [482.7]])"
            ]
          },
          "metadata": {
            "tags": []
          },
          "execution_count": 6
        }
      ]
    },
    {
      "cell_type": "code",
      "metadata": {
        "id": "jpiu13N4htAt",
        "colab_type": "code",
        "colab": {
          "base_uri": "https://localhost:8080/",
          "height": 34
        },
        "outputId": "57b5180b-5fb1-4cac-c347-fc602f1ad21b"
      },
      "source": [
        "avaliação_prova = mean_squared_error(dados_valid, dados_validacao)\n",
        "avaliação_prova"
      ],
      "execution_count": 8,
      "outputs": [
        {
          "output_type": "execute_result",
          "data": {
            "text/plain": [
              "0.0"
            ]
          },
          "metadata": {
            "tags": []
          },
          "execution_count": 8
        }
      ]
    }
  ]
}